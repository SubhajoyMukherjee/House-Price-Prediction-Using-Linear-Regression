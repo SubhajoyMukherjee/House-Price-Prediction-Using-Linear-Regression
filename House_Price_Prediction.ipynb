{
  "nbformat": 4,
  "nbformat_minor": 0,
  "metadata": {
    "colab": {
      "provenance": []
    },
    "kernelspec": {
      "name": "python3",
      "display_name": "Python 3"
    },
    "language_info": {
      "name": "python"
    }
  },
  "cells": [
    {
      "cell_type": "code",
      "execution_count": null,
      "metadata": {
        "colab": {
          "base_uri": "https://localhost:8080/"
        },
        "id": "K_EY_xXr062S",
        "outputId": "2a51d7dc-cbd3-4dfa-81dd-2b2f6e0b37bf"
      },
      "outputs": [
        {
          "output_type": "stream",
          "name": "stdout",
          "text": [
            "Mounted at /content/drive\n"
          ]
        }
      ],
      "source": [
        "import os\n",
        "from google.colab import drive\n",
        "drive.mount(\"/content/drive\")"
      ]
    },
    {
      "cell_type": "code",
      "source": [
        "import numpy as np\n",
        "import pandas as pd\n",
        "import matplotlib.pyplot as plt\n",
        "d1=pd.read_csv('/content/drive/MyDrive/ML_DATAS/Real_Estate.csv')\n",
        "print(\"Shape of datset : \",d1.shape)\n",
        "print(\"Columns : \",d1.columns)\n",
        "d1.describe()"
      ],
      "metadata": {
        "colab": {
          "base_uri": "https://localhost:8080/",
          "height": 451
        },
        "id": "4MhXPqsq5x_1",
        "outputId": "b5648bc2-fcff-4309-dfec-2a4056629c63"
      },
      "execution_count": null,
      "outputs": [
        {
          "output_type": "stream",
          "name": "stdout",
          "text": [
            "Shape of datset :  (414, 8)\n",
            "Columns :  Index(['No', 'X1_Transaction_Date', 'X2_House_Age',\n",
            "       'X3_Distance_of_Nearest_MRT_Station', 'X4_Number_of_Convenience_Stores',\n",
            "       'X5_Latitude', 'X6_Longitude', 'Y_House_Price_of_Unit_Area'],\n",
            "      dtype='object')\n"
          ]
        },
        {
          "output_type": "execute_result",
          "data": {
            "text/plain": [
              "               No  X1_Transaction_Date  X2_House_Age  \\\n",
              "count  414.000000           414.000000    414.000000   \n",
              "mean   207.500000          2013.148971     17.712560   \n",
              "std    119.655756             0.281967     11.392485   \n",
              "min      1.000000          2012.667000      0.000000   \n",
              "25%    104.250000          2012.917000      9.025000   \n",
              "50%    207.500000          2013.167000     16.100000   \n",
              "75%    310.750000          2013.417000     28.150000   \n",
              "max    414.000000          2013.583000     43.800000   \n",
              "\n",
              "       X3_Distance_of_Nearest_MRT_Station  X4_Number_of_Convenience_Stores  \\\n",
              "count                          414.000000                       414.000000   \n",
              "mean                          1083.885689                         4.094203   \n",
              "std                           1262.109595                         2.945562   \n",
              "min                             23.382840                         0.000000   \n",
              "25%                            289.324800                         1.000000   \n",
              "50%                            492.231300                         4.000000   \n",
              "75%                           1454.279000                         6.000000   \n",
              "max                           6488.021000                        10.000000   \n",
              "\n",
              "       X5_Latitude  X6_Longitude  Y_House_Price_of_Unit_Area  \n",
              "count   414.000000    414.000000                  414.000000  \n",
              "mean     24.969030    121.533361                   37.980193  \n",
              "std       0.012410      0.015347                   13.606488  \n",
              "min      24.932070    121.473530                    7.600000  \n",
              "25%      24.963000    121.528085                   27.700000  \n",
              "50%      24.971100    121.538630                   38.450000  \n",
              "75%      24.977455    121.543305                   46.600000  \n",
              "max      25.014590    121.566270                  117.500000  "
            ],
            "text/html": [
              "\n",
              "  <div id=\"df-5e932ff1-8f88-42be-b4b7-7c324a58bc0f\">\n",
              "    <div class=\"colab-df-container\">\n",
              "      <div>\n",
              "<style scoped>\n",
              "    .dataframe tbody tr th:only-of-type {\n",
              "        vertical-align: middle;\n",
              "    }\n",
              "\n",
              "    .dataframe tbody tr th {\n",
              "        vertical-align: top;\n",
              "    }\n",
              "\n",
              "    .dataframe thead th {\n",
              "        text-align: right;\n",
              "    }\n",
              "</style>\n",
              "<table border=\"1\" class=\"dataframe\">\n",
              "  <thead>\n",
              "    <tr style=\"text-align: right;\">\n",
              "      <th></th>\n",
              "      <th>No</th>\n",
              "      <th>X1_Transaction_Date</th>\n",
              "      <th>X2_House_Age</th>\n",
              "      <th>X3_Distance_of_Nearest_MRT_Station</th>\n",
              "      <th>X4_Number_of_Convenience_Stores</th>\n",
              "      <th>X5_Latitude</th>\n",
              "      <th>X6_Longitude</th>\n",
              "      <th>Y_House_Price_of_Unit_Area</th>\n",
              "    </tr>\n",
              "  </thead>\n",
              "  <tbody>\n",
              "    <tr>\n",
              "      <th>count</th>\n",
              "      <td>414.000000</td>\n",
              "      <td>414.000000</td>\n",
              "      <td>414.000000</td>\n",
              "      <td>414.000000</td>\n",
              "      <td>414.000000</td>\n",
              "      <td>414.000000</td>\n",
              "      <td>414.000000</td>\n",
              "      <td>414.000000</td>\n",
              "    </tr>\n",
              "    <tr>\n",
              "      <th>mean</th>\n",
              "      <td>207.500000</td>\n",
              "      <td>2013.148971</td>\n",
              "      <td>17.712560</td>\n",
              "      <td>1083.885689</td>\n",
              "      <td>4.094203</td>\n",
              "      <td>24.969030</td>\n",
              "      <td>121.533361</td>\n",
              "      <td>37.980193</td>\n",
              "    </tr>\n",
              "    <tr>\n",
              "      <th>std</th>\n",
              "      <td>119.655756</td>\n",
              "      <td>0.281967</td>\n",
              "      <td>11.392485</td>\n",
              "      <td>1262.109595</td>\n",
              "      <td>2.945562</td>\n",
              "      <td>0.012410</td>\n",
              "      <td>0.015347</td>\n",
              "      <td>13.606488</td>\n",
              "    </tr>\n",
              "    <tr>\n",
              "      <th>min</th>\n",
              "      <td>1.000000</td>\n",
              "      <td>2012.667000</td>\n",
              "      <td>0.000000</td>\n",
              "      <td>23.382840</td>\n",
              "      <td>0.000000</td>\n",
              "      <td>24.932070</td>\n",
              "      <td>121.473530</td>\n",
              "      <td>7.600000</td>\n",
              "    </tr>\n",
              "    <tr>\n",
              "      <th>25%</th>\n",
              "      <td>104.250000</td>\n",
              "      <td>2012.917000</td>\n",
              "      <td>9.025000</td>\n",
              "      <td>289.324800</td>\n",
              "      <td>1.000000</td>\n",
              "      <td>24.963000</td>\n",
              "      <td>121.528085</td>\n",
              "      <td>27.700000</td>\n",
              "    </tr>\n",
              "    <tr>\n",
              "      <th>50%</th>\n",
              "      <td>207.500000</td>\n",
              "      <td>2013.167000</td>\n",
              "      <td>16.100000</td>\n",
              "      <td>492.231300</td>\n",
              "      <td>4.000000</td>\n",
              "      <td>24.971100</td>\n",
              "      <td>121.538630</td>\n",
              "      <td>38.450000</td>\n",
              "    </tr>\n",
              "    <tr>\n",
              "      <th>75%</th>\n",
              "      <td>310.750000</td>\n",
              "      <td>2013.417000</td>\n",
              "      <td>28.150000</td>\n",
              "      <td>1454.279000</td>\n",
              "      <td>6.000000</td>\n",
              "      <td>24.977455</td>\n",
              "      <td>121.543305</td>\n",
              "      <td>46.600000</td>\n",
              "    </tr>\n",
              "    <tr>\n",
              "      <th>max</th>\n",
              "      <td>414.000000</td>\n",
              "      <td>2013.583000</td>\n",
              "      <td>43.800000</td>\n",
              "      <td>6488.021000</td>\n",
              "      <td>10.000000</td>\n",
              "      <td>25.014590</td>\n",
              "      <td>121.566270</td>\n",
              "      <td>117.500000</td>\n",
              "    </tr>\n",
              "  </tbody>\n",
              "</table>\n",
              "</div>\n",
              "      <button class=\"colab-df-convert\" onclick=\"convertToInteractive('df-5e932ff1-8f88-42be-b4b7-7c324a58bc0f')\"\n",
              "              title=\"Convert this dataframe to an interactive table.\"\n",
              "              style=\"display:none;\">\n",
              "        \n",
              "  <svg xmlns=\"http://www.w3.org/2000/svg\" height=\"24px\"viewBox=\"0 0 24 24\"\n",
              "       width=\"24px\">\n",
              "    <path d=\"M0 0h24v24H0V0z\" fill=\"none\"/>\n",
              "    <path d=\"M18.56 5.44l.94 2.06.94-2.06 2.06-.94-2.06-.94-.94-2.06-.94 2.06-2.06.94zm-11 1L8.5 8.5l.94-2.06 2.06-.94-2.06-.94L8.5 2.5l-.94 2.06-2.06.94zm10 10l.94 2.06.94-2.06 2.06-.94-2.06-.94-.94-2.06-.94 2.06-2.06.94z\"/><path d=\"M17.41 7.96l-1.37-1.37c-.4-.4-.92-.59-1.43-.59-.52 0-1.04.2-1.43.59L10.3 9.45l-7.72 7.72c-.78.78-.78 2.05 0 2.83L4 21.41c.39.39.9.59 1.41.59.51 0 1.02-.2 1.41-.59l7.78-7.78 2.81-2.81c.8-.78.8-2.07 0-2.86zM5.41 20L4 18.59l7.72-7.72 1.47 1.35L5.41 20z\"/>\n",
              "  </svg>\n",
              "      </button>\n",
              "      \n",
              "  <style>\n",
              "    .colab-df-container {\n",
              "      display:flex;\n",
              "      flex-wrap:wrap;\n",
              "      gap: 12px;\n",
              "    }\n",
              "\n",
              "    .colab-df-convert {\n",
              "      background-color: #E8F0FE;\n",
              "      border: none;\n",
              "      border-radius: 50%;\n",
              "      cursor: pointer;\n",
              "      display: none;\n",
              "      fill: #1967D2;\n",
              "      height: 32px;\n",
              "      padding: 0 0 0 0;\n",
              "      width: 32px;\n",
              "    }\n",
              "\n",
              "    .colab-df-convert:hover {\n",
              "      background-color: #E2EBFA;\n",
              "      box-shadow: 0px 1px 2px rgba(60, 64, 67, 0.3), 0px 1px 3px 1px rgba(60, 64, 67, 0.15);\n",
              "      fill: #174EA6;\n",
              "    }\n",
              "\n",
              "    [theme=dark] .colab-df-convert {\n",
              "      background-color: #3B4455;\n",
              "      fill: #D2E3FC;\n",
              "    }\n",
              "\n",
              "    [theme=dark] .colab-df-convert:hover {\n",
              "      background-color: #434B5C;\n",
              "      box-shadow: 0px 1px 3px 1px rgba(0, 0, 0, 0.15);\n",
              "      filter: drop-shadow(0px 1px 2px rgba(0, 0, 0, 0.3));\n",
              "      fill: #FFFFFF;\n",
              "    }\n",
              "  </style>\n",
              "\n",
              "      <script>\n",
              "        const buttonEl =\n",
              "          document.querySelector('#df-5e932ff1-8f88-42be-b4b7-7c324a58bc0f button.colab-df-convert');\n",
              "        buttonEl.style.display =\n",
              "          google.colab.kernel.accessAllowed ? 'block' : 'none';\n",
              "\n",
              "        async function convertToInteractive(key) {\n",
              "          const element = document.querySelector('#df-5e932ff1-8f88-42be-b4b7-7c324a58bc0f');\n",
              "          const dataTable =\n",
              "            await google.colab.kernel.invokeFunction('convertToInteractive',\n",
              "                                                     [key], {});\n",
              "          if (!dataTable) return;\n",
              "\n",
              "          const docLinkHtml = 'Like what you see? Visit the ' +\n",
              "            '<a target=\"_blank\" href=https://colab.research.google.com/notebooks/data_table.ipynb>data table notebook</a>'\n",
              "            + ' to learn more about interactive tables.';\n",
              "          element.innerHTML = '';\n",
              "          dataTable['output_type'] = 'display_data';\n",
              "          await google.colab.output.renderOutput(dataTable, element);\n",
              "          const docLink = document.createElement('div');\n",
              "          docLink.innerHTML = docLinkHtml;\n",
              "          element.appendChild(docLink);\n",
              "        }\n",
              "      </script>\n",
              "    </div>\n",
              "  </div>\n",
              "  "
            ]
          },
          "metadata": {},
          "execution_count": 4
        }
      ]
    },
    {
      "cell_type": "code",
      "source": [
        "#visualize the data\n",
        "plt.xlabel('House Age')\n",
        "plt.ylabel('House Price of Unit Area')\n",
        "plt.scatter(d1.X2_House_Age,d1.Y_House_Price_of_Unit_Area,color='red')\n",
        "plt.show()"
      ],
      "metadata": {
        "colab": {
          "base_uri": "https://localhost:8080/",
          "height": 279
        },
        "id": "SkPRsBDJ7X9o",
        "outputId": "fa8593e2-7104-4fea-b5cc-f578950d025f"
      },
      "execution_count": null,
      "outputs": [
        {
          "output_type": "display_data",
          "data": {
            "text/plain": [
              "<Figure size 432x288 with 1 Axes>"
            ],
            "image/png": "[encoded data removed]"
          },
          "metadata": {
            "needs_background": "light"
          }
        }
      ]
    },
    {
      "cell_type": "code",
      "source": [
        "plt.xlabel(' Number of Convenience Stores')\n",
        "plt.ylabel('House Price of Unit Area')\n",
        "plt.scatter(d1.X4_Number_of_Convenience_Stores,d1.Y_House_Price_of_Unit_Area,color='red')\n",
        "plt.show()"
      ],
      "metadata": {
        "colab": {
          "base_uri": "https://localhost:8080/",
          "height": 279
        },
        "id": "cWH0Iwk08xsC",
        "outputId": "d9fd5203-65d7-44d3-b5b8-8de886ed78ac"
      },
      "execution_count": null,
      "outputs": [
        {
          "output_type": "display_data",
          "data": {
            "text/plain": [
              "<Figure size 432x288 with 1 Axes>"
            ],
            "image/png": "[encoded data removed]"
          },
          "metadata": {
            "needs_background": "light"
          }
        }
      ]
    },
    {
      "cell_type": "code",
      "source": [
        "#split dataset into the training set and test data"
      ],
      "metadata": {
        "id": "OAiYlhXq9gLh"
      },
      "execution_count": null,
      "outputs": []
    },
    {
      "cell_type": "code",
      "source": [
        "from sklearn.model_selection import train_test_split\n",
        "training_data,testing_data=train_test_split(d1,test_size=0.2,random_state=0)\n",
        "print(training_data.head)\n",
        "print(testing_data.head)"
      ],
      "metadata": {
        "colab": {
          "base_uri": "https://localhost:8080/"
        },
        "id": "-WDoEn9z94P7",
        "outputId": "ce95fa12-0230-4588-8d36-49139ba8b67c"
      },
      "execution_count": null,
      "outputs": [
        {
          "output_type": "stream",
          "name": "stdout",
          "text": [
            "<bound method NDFrame.head of       No  X1_Transaction_Date  X2_House_Age  \\\n",
            "302  303             2013.500          16.5   \n",
            "20    21             2013.417           4.5   \n",
            "303  304             2013.500          38.3   \n",
            "142  143             2013.417          19.8   \n",
            "14    15             2013.500          13.2   \n",
            "..   ...                  ...           ...   \n",
            "323  324             2013.417          28.6   \n",
            "192  193             2013.167          43.8   \n",
            "117  118             2013.000          13.6   \n",
            "47    48             2013.583          35.9   \n",
            "172  173             2013.583           6.6   \n",
            "\n",
            "     X3_Distance_of_Nearest_MRT_Station  X4_Number_of_Convenience_Stores  \\\n",
            "302                          2288.01100                                3   \n",
            "20                           2275.87700                                3   \n",
            "303                           439.71050                                0   \n",
            "142                           640.60710                                5   \n",
            "14                           1164.83800                                4   \n",
            "..                                  ...                              ...   \n",
            "323                           197.13380                                6   \n",
            "192                            57.58945                                7   \n",
            "117                          4197.34900                                0   \n",
            "47                            640.73910                                3   \n",
            "172                            90.45606                                9   \n",
            "\n",
            "     X5_Latitude  X6_Longitude  Y_House_Price_of_Unit_Area  \n",
            "302     24.95885     121.51359                        23.2  \n",
            "20      24.96314     121.51151                        29.3  \n",
            "303     24.97161     121.53423                        38.4  \n",
            "142     24.97017     121.54647                        37.5  \n",
            "14      24.99156     121.53406                        34.3  \n",
            "..           ...           ...                         ...  \n",
            "323     24.97631     121.54436                        42.5  \n",
            "192     24.96750     121.54069                        42.7  \n",
            "117     24.93885     121.50383                        13.0  \n",
            "47      24.97563     121.53715                        61.5  \n",
            "172     24.97433     121.54310                        58.1  \n",
            "\n",
            "[331 rows x 8 columns]>\n",
            "<bound method NDFrame.head of       No  X1_Transaction_Date  X2_House_Age  \\\n",
            "356  357             2012.833          10.3   \n",
            "170  171             2013.333          24.0   \n",
            "224  225             2013.333          34.5   \n",
            "331  332             2013.333          25.6   \n",
            "306  307             2013.500          14.4   \n",
            "..   ...                  ...           ...   \n",
            "308  309             2013.417          16.4   \n",
            "100  101             2013.500          17.5   \n",
            "7      8             2013.417          20.3   \n",
            "22    23             2012.917          14.7   \n",
            "68    69             2013.417          30.4   \n",
            "\n",
            "     X3_Distance_of_Nearest_MRT_Station  X4_Number_of_Convenience_Stores  \\\n",
            "356                            211.4473                                1   \n",
            "170                           4527.6870                                0   \n",
            "224                            324.9419                                6   \n",
            "331                           4519.6900                                0   \n",
            "306                            169.9803                                1   \n",
            "..                                  ...                              ...   \n",
            "308                            289.3248                                5   \n",
            "100                            964.7496                                4   \n",
            "7                              287.6025                                6   \n",
            "22                            1360.1390                                1   \n",
            "68                             464.2230                                6   \n",
            "\n",
            "     X5_Latitude  X6_Longitude  Y_House_Price_of_Unit_Area  \n",
            "356     24.97417     121.52999                        45.3  \n",
            "170     24.94741     121.49628                        14.4  \n",
            "224     24.97814     121.54170                        46.0  \n",
            "331     24.94826     121.49587                        15.6  \n",
            "306     24.97369     121.52979                        50.2  \n",
            "..           ...           ...                         ...  \n",
            "308     24.98203     121.54348                        53.0  \n",
            "100     24.98872     121.53411                        38.2  \n",
            "7       24.98042     121.54228                        46.7  \n",
            "22      24.95204     121.54842                        24.6  \n",
            "68      24.97964     121.53805                        36.2  \n",
            "\n",
            "[83 rows x 8 columns]>\n"
          ]
        }
      ]
    },
    {
      "cell_type": "code",
      "source": [
        "from sklearn import linear_model\n",
        "slr=linear_model.LinearRegression()\n",
        "train_x=np.asanyarray(training_data[['X4_Number_of_Convenience_Stores']])\n",
        "train_y=np.asanyarray(training_data[['Y_House_Price_of_Unit_Area']])\n",
        "slr.fit(train_x,train_y)\n",
        "print(\"X Coefficient: \",slr.coef_)\n",
        "print(\"Y Intercept : \",slr.intercept_)"
      ],
      "metadata": {
        "colab": {
          "base_uri": "https://localhost:8080/"
        },
        "id": "2EOqy1aVCFPl",
        "outputId": "691bf6a5-4f7b-4719-ae4c-aaa0ff0245c8"
      },
      "execution_count": null,
      "outputs": [
        {
          "output_type": "stream",
          "name": "stdout",
          "text": [
            "X Coefficient:  [[2.65054866]]\n",
            "Y Intercept :  [27.3261942]\n"
          ]
        }
      ]
    },
    {
      "cell_type": "code",
      "source": [
        "plt.scatter(training_data.X4_Number_of_Convenience_Stores,training_data.Y_House_Price_of_Unit_Area,color='red')\n",
        "plt.plot(train_x,slr.coef_[0][0]*train_x+slr.intercept_[0],'-b')\n",
        "plt.xlabel('Number of Convenience Stores')\n",
        "plt.ylabel('House price of Unit Area')"
      ],
      "metadata": {
        "colab": {
          "base_uri": "https://localhost:8080/",
          "height": 296
        },
        "id": "mZL2DReAI4Br",
        "outputId": "a777d14d-7f90-42a1-dd11-b80b3e17892e"
      },
      "execution_count": null,
      "outputs": [
        {
          "output_type": "execute_result",
          "data": {
            "text/plain": [
              "Text(0, 0.5, 'House price of Unit Area')"
            ]
          },
          "metadata": {},
          "execution_count": 22
        },
        {
          "output_type": "display_data",
          "data": {
            "text/plain": [
              "<Figure size 432x288 with 1 Axes>"
            ],
            "image/png": "[encoded data removed]"
          },
          "metadata": {
            "needs_background": "light"
          }
        }
      ]
    },
    {
      "cell_type": "code",
      "source": [
        "from sklearn.metrics import r2_score\n",
        "test_x=np.asanyarray(testing_data[['X4_Number_of_Convenience_Stores']])\n",
        "test_y=np.asanyarray(testing_data[['Y_House_Price_of_Unit_Area']])\n",
        "test_y_=slr.predict(test_x)\n",
        "print('Mean absolute error : %.2f' % np.mean(np.absolute(test_y_-test_y)))\n",
        "print('Residual sum of squares (MSE) : %.2f' %r2_score(test_y,test_y_))"
      ],
      "metadata": {
        "colab": {
          "base_uri": "https://localhost:8080/"
        },
        "id": "LhabJxeWFg6i",
        "outputId": "aeeba3d8-ac65-4d76-d036-376d4f1943f9"
      },
      "execution_count": null,
      "outputs": [
        {
          "output_type": "stream",
          "name": "stdout",
          "text": [
            "Mean absolute error : 8.47\n",
            "Residual sum of squares (MSE) : 0.37\n"
          ]
        }
      ]
    }
  ]
}